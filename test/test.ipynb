{
 "cells": [
  {
   "cell_type": "code",
   "execution_count": null,
   "metadata": {},
   "outputs": [],
   "source": [
    "import os\n",
    "import sys\n",
    "from pathlib import Path\n",
    "sys.path.append(str(Path(os.getcwd()).parent))"
   ]
  },
  {
   "cell_type": "code",
   "execution_count": null,
   "metadata": {},
   "outputs": [],
   "source": [
    "from config import API_KEY"
   ]
  },
  {
   "attachments": {},
   "cell_type": "markdown",
   "metadata": {},
   "source": [
    "## Univalsal Summarizer API"
   ]
  },
  {
   "attachments": {},
   "cell_type": "markdown",
   "metadata": {},
   "source": [
    "### Text summarization"
   ]
  },
  {
   "cell_type": "code",
   "execution_count": null,
   "metadata": {},
   "outputs": [],
   "source": [
    "from PyKagi import UniversalSummarizer\n",
    "\n",
    "# API_KEY = \"your api key\"\n",
    "US = UniversalSummarizer(API_KEY)\n",
    "\n",
    "text = f\"\"\"Thank you. I'm honored to be with you today for your commencement from one of the finest universities in the world. Truth be told, I never graduated from college, and this is the closest I've ever gotten to a college graduation. Today I want to tell you three stories from my life. That's it. No big deal. Just three stories. (...)\"\"\"\n",
    "engine = \"agnes\"\n",
    "target_language = \"KO\"\n",
    "cache = True\n",
    "\n",
    "result = US.summarize(\n",
    "    text = text,\n",
    "    engine = engine,\n",
    "    target_language = target_language,\n",
    "    cache = cache\n",
    ")\n",
    "result"
   ]
  },
  {
   "attachments": {},
   "cell_type": "markdown",
   "metadata": {},
   "source": [
    "### Web content summarization"
   ]
  },
  {
   "cell_type": "code",
   "execution_count": null,
   "metadata": {},
   "outputs": [],
   "source": [
    "from PyKagi import UniversalSummarizer\n",
    "\n",
    "# API_KEY = \"your api key\"\n",
    "US = UniversalSummarizer(API_KEY)\n",
    "\n",
    "url = \"https://namu.wiki/w/Midjourney\"\n",
    "engine = \"agnes\"\n",
    "target_language = \"KO\"\n",
    "cache = True\n",
    "\n",
    "result = US.summarize(\n",
    "    url = url,\n",
    "    engine = engine,\n",
    "    target_language = target_language,\n",
    "    cache = cache\n",
    ")\n",
    "result"
   ]
  },
  {
   "attachments": {},
   "cell_type": "markdown",
   "metadata": {},
   "source": [
    "## FastGPT API"
   ]
  },
  {
   "cell_type": "code",
   "execution_count": null,
   "metadata": {},
   "outputs": [],
   "source": [
    "from PyKagi import FastGPT\n",
    "\n",
    "# API_KEY = \"your api key\"\n",
    "FGPT = FastGPT(API_KEY)\n",
    "\n",
    "query = \"python 3.11\"\n",
    "web_search = False\n",
    "cache = True\n",
    "\n",
    "result = FGPT.fastgpt(\n",
    "    query = query,\n",
    ")\n",
    "result"
   ]
  },
  {
   "attachments": {},
   "cell_type": "markdown",
   "metadata": {},
   "source": [
    "## Search API"
   ]
  },
  {
   "cell_type": "code",
   "execution_count": null,
   "metadata": {},
   "outputs": [],
   "source": [
    "from PyKagi import Search\n",
    "\n",
    "# API_KEY = \"your api key\"\n",
    "S = Search(API_KEY)\n",
    "\n",
    "query = \"Steve Jobs\"\n",
    "limit = 10\n",
    "result = S.search(\n",
    "    query=query, \n",
    "    limit=limit\n",
    ")\n",
    "result"
   ]
  }
 ],
 "metadata": {
  "kernelspec": {
   "display_name": "venv",
   "language": "python",
   "name": "python3"
  },
  "language_info": {
   "codemirror_mode": {
    "name": "ipython",
    "version": 3
   },
   "file_extension": ".py",
   "mimetype": "text/x-python",
   "name": "python",
   "nbconvert_exporter": "python",
   "pygments_lexer": "ipython3",
   "version": "3.10.9"
  },
  "orig_nbformat": 4
 },
 "nbformat": 4,
 "nbformat_minor": 2
}
