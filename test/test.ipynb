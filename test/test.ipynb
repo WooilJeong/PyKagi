{
 "cells": [
  {
   "cell_type": "code",
   "execution_count": null,
   "metadata": {},
   "outputs": [],
   "source": [
    "import os\n",
    "import sys\n",
    "from pathlib import Path\n",
    "sys.path.append(str(Path(os.getcwd()).parent))"
   ]
  },
  {
   "cell_type": "code",
   "execution_count": null,
   "metadata": {},
   "outputs": [],
   "source": [
    "from config import API_KEY"
   ]
  },
  {
   "attachments": {},
   "cell_type": "markdown",
   "metadata": {},
   "source": [
    "## Univalsal Summarizer API"
   ]
  },
  {
   "cell_type": "code",
   "execution_count": null,
   "metadata": {},
   "outputs": [],
   "source": [
    "from PyKagi import UniversalSummarizer\n",
    "\n",
    "API_KEY = \"your api key\"\n",
    "US = UniversalSummarizer(API_KEY)\n",
    "\n",
    "method = \"POST\"\n",
    "url = \"https://namu.wiki/w/Midjourney\"\n",
    "engine = \"agnes\"\n",
    "target_language = \"KO\"\n",
    "cache = True\n",
    "\n",
    "result = US.summarize(\n",
    "    method = method,\n",
    "    url = url,\n",
    "    engine = engine,\n",
    "    target_language = target_language,\n",
    "    cache = cache\n",
    ")\n",
    "result"
   ]
  },
  {
   "attachments": {},
   "cell_type": "markdown",
   "metadata": {},
   "source": [
    "## Search API"
   ]
  },
  {
   "cell_type": "code",
   "execution_count": null,
   "metadata": {},
   "outputs": [],
   "source": [
    "from PyKagi import Search\n",
    "\n",
    "API_KEY = \"your api key\"\n",
    "S = Search(API_KEY)\n",
    "\n",
    "query = \"Steve Jobs\"\n",
    "limit = 10\n",
    "result = S.search(\n",
    "    query=query, \n",
    "    limit=limit\n",
    ")\n",
    "result"
   ]
  }
 ],
 "metadata": {
  "kernelspec": {
   "display_name": "venv",
   "language": "python",
   "name": "python3"
  },
  "language_info": {
   "codemirror_mode": {
    "name": "ipython",
    "version": 3
   },
   "file_extension": ".py",
   "mimetype": "text/x-python",
   "name": "python",
   "nbconvert_exporter": "python",
   "pygments_lexer": "ipython3",
   "version": "3.9.12"
  },
  "orig_nbformat": 4
 },
 "nbformat": 4,
 "nbformat_minor": 2
}
